{
 "cells": [
  {
   "cell_type": "markdown",
   "id": "e26a8990-bf72-4f84-b8b7-af38624d13ab",
   "metadata": {},
   "source": [
    "## Importing the testing data"
   ]
  },
  {
   "cell_type": "code",
   "execution_count": 1,
   "id": "408fe37d-16b1-4a59-a168-add5b33eb413",
   "metadata": {},
   "outputs": [],
   "source": [
    "import requests\n",
    "import pandas as pd\n",
    "\n",
    "root_url = 'https://www.usada.org/uploads/web_hist_files/xml/'\n",
    "\n",
    "dfs = []\n",
    "\n",
    "for year in range(2015, 2022 + 1):\n",
    "    for quarter in ['q1', 'q2', 'q3', 'q4']:\n",
    "        \n",
    "        # Present day\n",
    "        if (quarter == 'q3') and (year == 2022): \n",
    "            break\n",
    "            \n",
    "        r = requests.get(root_url + f'{year}{quarter}.xml')\n",
    "\n",
    "        # For some reason the encoding changes between years\n",
    "        try: \n",
    "            xml_data = r.content.decode('utf-8')\n",
    "        except UnicodeDecodeError:    \n",
    "            xml_data = r.content.decode('utf-16')\n",
    "\n",
    "        dfs.append(pd.read_xml(xml_data))\n",
    "        \n",
    "df = pd.concat(dfs)"
   ]
  },
  {
   "cell_type": "code",
   "execution_count": 2,
   "id": "4cecc16a-20c5-4eb7-9db6-6b46cab719e5",
   "metadata": {},
   "outputs": [
    {
     "data": {
      "text/html": [
       "<div>\n",
       "<style scoped>\n",
       "    .dataframe tbody tr th:only-of-type {\n",
       "        vertical-align: middle;\n",
       "    }\n",
       "\n",
       "    .dataframe tbody tr th {\n",
       "        vertical-align: top;\n",
       "    }\n",
       "\n",
       "    .dataframe thead th {\n",
       "        text-align: right;\n",
       "    }\n",
       "</style>\n",
       "<table border=\"1\" class=\"dataframe\">\n",
       "  <thead>\n",
       "    <tr style=\"text-align: right;\">\n",
       "      <th></th>\n",
       "      <th>YR</th>\n",
       "      <th>QTR</th>\n",
       "      <th>AName</th>\n",
       "      <th>NumTests</th>\n",
       "      <th>Sport</th>\n",
       "      <th>AFN</th>\n",
       "      <th>ALN</th>\n",
       "    </tr>\n",
       "  </thead>\n",
       "  <tbody>\n",
       "    <tr>\n",
       "      <th>0</th>\n",
       "      <td>2015</td>\n",
       "      <td>Q1</td>\n",
       "      <td>Madeline Aaron</td>\n",
       "      <td>1</td>\n",
       "      <td>Figure Skating</td>\n",
       "      <td>Madeline</td>\n",
       "      <td>Aaron</td>\n",
       "    </tr>\n",
       "    <tr>\n",
       "      <th>1</th>\n",
       "      <td>2015</td>\n",
       "      <td>Q1</td>\n",
       "      <td>Max Aaron</td>\n",
       "      <td>2</td>\n",
       "      <td>Figure Skating</td>\n",
       "      <td>Max</td>\n",
       "      <td>Aaron</td>\n",
       "    </tr>\n",
       "    <tr>\n",
       "      <th>2</th>\n",
       "      <td>2015</td>\n",
       "      <td>Q1</td>\n",
       "      <td>Jeremy Abbott</td>\n",
       "      <td>1</td>\n",
       "      <td>Figure Skating</td>\n",
       "      <td>Jeremy</td>\n",
       "      <td>Abbott</td>\n",
       "    </tr>\n",
       "    <tr>\n",
       "      <th>3</th>\n",
       "      <td>2015</td>\n",
       "      <td>Q1</td>\n",
       "      <td>Abdihakim M Abdirahman</td>\n",
       "      <td>3</td>\n",
       "      <td>Track and Field</td>\n",
       "      <td>Abdihakim</td>\n",
       "      <td>Abdirahman</td>\n",
       "    </tr>\n",
       "    <tr>\n",
       "      <th>4</th>\n",
       "      <td>2015</td>\n",
       "      <td>Q1</td>\n",
       "      <td>Alaine Abuan</td>\n",
       "      <td>1</td>\n",
       "      <td>Judo</td>\n",
       "      <td>Alaine</td>\n",
       "      <td>Abuan</td>\n",
       "    </tr>\n",
       "  </tbody>\n",
       "</table>\n",
       "</div>"
      ],
      "text/plain": [
       "     YR QTR                   AName  NumTests            Sport        AFN  \\\n",
       "0  2015  Q1          Madeline Aaron         1   Figure Skating   Madeline   \n",
       "1  2015  Q1               Max Aaron         2   Figure Skating        Max   \n",
       "2  2015  Q1           Jeremy Abbott         1   Figure Skating     Jeremy   \n",
       "3  2015  Q1  Abdihakim M Abdirahman         3  Track and Field  Abdihakim   \n",
       "4  2015  Q1            Alaine Abuan         1             Judo     Alaine   \n",
       "\n",
       "          ALN  \n",
       "0       Aaron  \n",
       "1       Aaron  \n",
       "2      Abbott  \n",
       "3  Abdirahman  \n",
       "4       Abuan  "
      ]
     },
     "execution_count": 2,
     "metadata": {},
     "output_type": "execute_result"
    }
   ],
   "source": [
    "df.head()"
   ]
  },
  {
   "cell_type": "code",
   "execution_count": 3,
   "id": "918c83ab-42aa-4e81-8972-831833a04ace",
   "metadata": {},
   "outputs": [],
   "source": [
    "df_1 = df.rename(columns = {'YR':'year',\n",
    "                            'QTR':'quarter',\n",
    "                            'AName':'athlete_name',\n",
    "                            'NumTests':'tests',\n",
    "                            'Sport':'sport',\n",
    "                            'AFN':'athlete_first_name',\n",
    "                            'ALN':'athlete_last_name',})"
   ]
  },
  {
   "cell_type": "code",
   "execution_count": 4,
   "id": "3f1eef52-00bf-40b0-8d9d-6cefdaadd024",
   "metadata": {},
   "outputs": [],
   "source": [
    "df_1.to_csv('usada_testing_data.csv', index = False)"
   ]
  },
  {
   "cell_type": "markdown",
   "id": "502e6885-6a45-41a4-88db-c2a4fdb69b7d",
   "metadata": {},
   "source": [
    "## Import the sanctions data\n",
    "\n",
    "(This can be joined to the previous dataframe if needed)"
   ]
  },
  {
   "cell_type": "code",
   "execution_count": 5,
   "id": "011a1824-80e8-4c13-b2ff-ee04ab90141e",
   "metadata": {},
   "outputs": [],
   "source": [
    "df = pd.read_html('https://www.usada.org/news/sanctions/')[0]"
   ]
  },
  {
   "cell_type": "code",
   "execution_count": 6,
   "id": "180c593c-e4a2-48a9-b9c3-307619d8c184",
   "metadata": {},
   "outputs": [
    {
     "data": {
      "text/html": [
       "<div>\n",
       "<style scoped>\n",
       "    .dataframe tbody tr th:only-of-type {\n",
       "        vertical-align: middle;\n",
       "    }\n",
       "\n",
       "    .dataframe tbody tr th {\n",
       "        vertical-align: top;\n",
       "    }\n",
       "\n",
       "    .dataframe thead th {\n",
       "        text-align: right;\n",
       "    }\n",
       "</style>\n",
       "<table border=\"1\" class=\"dataframe\">\n",
       "  <thead>\n",
       "    <tr style=\"text-align: right;\">\n",
       "      <th></th>\n",
       "      <th>Athlete</th>\n",
       "      <th>Sport</th>\n",
       "      <th>Substance/Reason</th>\n",
       "      <th>Sanction Terms</th>\n",
       "      <th>Sanction Announced</th>\n",
       "    </tr>\n",
       "  </thead>\n",
       "  <tbody>\n",
       "    <tr>\n",
       "      <th>0</th>\n",
       "      <td>Allen, Sabina</td>\n",
       "      <td>Track and Field</td>\n",
       "      <td>Phentermine; LGD-4033</td>\n",
       "      <td>4-Year Suspension; Loss of Results</td>\n",
       "      <td>06/09/2022</td>\n",
       "    </tr>\n",
       "    <tr>\n",
       "      <th>1</th>\n",
       "      <td>Monastyrskyi, Andrii</td>\n",
       "      <td>Canoe</td>\n",
       "      <td>Meldonium</td>\n",
       "      <td>3-Year Suspension; Loss of Results</td>\n",
       "      <td>06/02/2022</td>\n",
       "    </tr>\n",
       "    <tr>\n",
       "      <th>2</th>\n",
       "      <td>Kynard, Erik</td>\n",
       "      <td>Track and Field</td>\n",
       "      <td>Non-Analytical: Use (IV)</td>\n",
       "      <td>6-Month Suspension</td>\n",
       "      <td>05/27/2022</td>\n",
       "    </tr>\n",
       "    <tr>\n",
       "      <th>3</th>\n",
       "      <td>Evans-Smith, Ashlee</td>\n",
       "      <td>Mixed Martial Arts</td>\n",
       "      <td>Dehydroepiandrosterone (DHEA)</td>\n",
       "      <td>14-Month Suspension</td>\n",
       "      <td>05/16/2022</td>\n",
       "    </tr>\n",
       "    <tr>\n",
       "      <th>4</th>\n",
       "      <td>Blanchfield, Erin</td>\n",
       "      <td>Mixed Martial Arts</td>\n",
       "      <td>Spironolactone</td>\n",
       "      <td>Public Warning</td>\n",
       "      <td>05/13/2022</td>\n",
       "    </tr>\n",
       "  </tbody>\n",
       "</table>\n",
       "</div>"
      ],
      "text/plain": [
       "                Athlete               Sport               Substance/Reason  \\\n",
       "0         Allen, Sabina     Track and Field          Phentermine; LGD-4033   \n",
       "1  Monastyrskyi, Andrii               Canoe                      Meldonium   \n",
       "2          Kynard, Erik     Track and Field       Non-Analytical: Use (IV)   \n",
       "3   Evans-Smith, Ashlee  Mixed Martial Arts  Dehydroepiandrosterone (DHEA)   \n",
       "4     Blanchfield, Erin  Mixed Martial Arts                 Spironolactone   \n",
       "\n",
       "                       Sanction Terms Sanction Announced  \n",
       "0  4-Year Suspension; Loss of Results         06/09/2022  \n",
       "1  3-Year Suspension; Loss of Results         06/02/2022  \n",
       "2                  6-Month Suspension         05/27/2022  \n",
       "3                 14-Month Suspension         05/16/2022  \n",
       "4                      Public Warning         05/13/2022  "
      ]
     },
     "execution_count": 6,
     "metadata": {},
     "output_type": "execute_result"
    }
   ],
   "source": [
    "df.head()"
   ]
  },
  {
   "cell_type": "code",
   "execution_count": 7,
   "id": "2c8d086a-7b23-4898-ae21-b67f0d3a67f9",
   "metadata": {},
   "outputs": [],
   "source": [
    "df_2 = df.rename(columns = {'Athlete':'athlete_name', \n",
    "                            'Sport':'sport', \n",
    "                            'Substance/Reason':'substance_reason', \n",
    "                            'Sanction Terms':'sanction_terms', \n",
    "                            'Sanction_announced':'date_announced'})"
   ]
  },
  {
   "cell_type": "code",
   "execution_count": 8,
   "id": "4223f077-bb0a-4eee-8b17-513b14db3f71",
   "metadata": {},
   "outputs": [],
   "source": [
    "df_2.to_csv('usada_sanctions_data.csv', index = False)"
   ]
  }
 ],
 "metadata": {
  "kernelspec": {
   "display_name": "Python 3 (ipykernel)",
   "language": "python",
   "name": "python3"
  },
  "language_info": {
   "codemirror_mode": {
    "name": "ipython",
    "version": 3
   },
   "file_extension": ".py",
   "mimetype": "text/x-python",
   "name": "python",
   "nbconvert_exporter": "python",
   "pygments_lexer": "ipython3",
   "version": "3.9.10"
  }
 },
 "nbformat": 4,
 "nbformat_minor": 5
}
