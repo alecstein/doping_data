{
 "cells": [
  {
   "cell_type": "markdown",
   "id": "e26a8990-bf72-4f84-b8b7-af38624d13ab",
   "metadata": {},
   "source": [
    "## Importing the testing data"
   ]
  },
  {
   "cell_type": "code",
   "execution_count": 78,
   "id": "408fe37d-16b1-4a59-a168-add5b33eb413",
   "metadata": {},
   "outputs": [
    {
     "name": "stderr",
     "output_type": "stream",
     "text": [
      "100%|█████████████████████████████████████████████████████████████████████████████████████████████████████████████████████████████████████████████████████████████████████████| 8/8 [00:11<00:00,  1.39s/it]\n"
     ]
    }
   ],
   "source": [
    "import requests\n",
    "from tqdm import tqdm\n",
    "import pandas as pd\n",
    "\n",
    "def usada_url(year, quarter):\n",
    "    return f'https://www.usada.org/uploads/web_hist_files/xml/{year}{quarter}.xml'\n",
    "\n",
    "dfs = []\n",
    "\n",
    "for year in tqdm(range(2015, 2022+1)):\n",
    "    for quarter in ['q1', 'q2', 'q3', 'q4']:\n",
    "        if quarter == 'q3' and year == 2022: break\n",
    "        r = requests.get(usada_url(year, quarter))\n",
    "        try: \n",
    "            subdf = pd.read_xml(r.content.decode('utf-8'))\n",
    "        except UnicodeDecodeError:\n",
    "            subdf = pd.read_xml(r.content.decode('utf-16'))\n",
    "        \n",
    "        dfs.append(subdf)\n",
    "        \n",
    "df = pd.concat(dfs)"
   ]
  },
  {
   "cell_type": "code",
   "execution_count": 70,
   "id": "34d95983-0be5-46e0-9a12-571412c802a4",
   "metadata": {},
   "outputs": [],
   "source": [
    "df = pd.concat(dfs)"
   ]
  },
  {
   "cell_type": "code",
   "execution_count": 75,
   "id": "918c83ab-42aa-4e81-8972-831833a04ace",
   "metadata": {},
   "outputs": [],
   "source": [
    "df = df.rename(columns = {'YR':'year',\n",
    "                     'QTR':'quarter',\n",
    "                     'AName':'athlete_name',\n",
    "                     'NumTests':'tests',\n",
    "                     'Sport':'sport',\n",
    "                     'AFN':'athlete_first_name',\n",
    "                     'ALN':'athlete_last_name',})"
   ]
  },
  {
   "cell_type": "code",
   "execution_count": 77,
   "id": "3f1eef52-00bf-40b0-8d9d-6cefdaadd024",
   "metadata": {},
   "outputs": [],
   "source": [
    "df.to_csv('usada_testing_data.csv', index = False)"
   ]
  },
  {
   "cell_type": "markdown",
   "id": "502e6885-6a45-41a4-88db-c2a4fdb69b7d",
   "metadata": {},
   "source": [
    "## Sanctions"
   ]
  },
  {
   "cell_type": "code",
   "execution_count": 81,
   "id": "011a1824-80e8-4c13-b2ff-ee04ab90141e",
   "metadata": {},
   "outputs": [],
   "source": [
    "df = pd.read_html('https://www.usada.org/news/sanctions/')[0]"
   ]
  },
  {
   "cell_type": "code",
   "execution_count": 84,
   "id": "2c8d086a-7b23-4898-ae21-b67f0d3a67f9",
   "metadata": {},
   "outputs": [],
   "source": [
    "df = df.rename(columns = {'Athlete':'athlete_name', \n",
    "                     'Sport':'sport', \n",
    "                     'Substance/Reason':'substance_reason', \n",
    "                     'Sanction Terms':'sanction_terms', \n",
    "                     'Sanction_announced':'date_announced'})"
   ]
  },
  {
   "cell_type": "code",
   "execution_count": 86,
   "id": "4223f077-bb0a-4eee-8b17-513b14db3f71",
   "metadata": {},
   "outputs": [],
   "source": [
    "df.to_csv('usada_sanctions_data.csv', index = False)"
   ]
  },
  {
   "cell_type": "code",
   "execution_count": null,
   "id": "7cb4e188-fb52-48d6-8e3f-baa124c03116",
   "metadata": {},
   "outputs": [],
   "source": []
  }
 ],
 "metadata": {
  "kernelspec": {
   "display_name": "Python 3 (ipykernel)",
   "language": "python",
   "name": "python3"
  },
  "language_info": {
   "codemirror_mode": {
    "name": "ipython",
    "version": 3
   },
   "file_extension": ".py",
   "mimetype": "text/x-python",
   "name": "python",
   "nbconvert_exporter": "python",
   "pygments_lexer": "ipython3",
   "version": "3.9.10"
  }
 },
 "nbformat": 4,
 "nbformat_minor": 5
}
