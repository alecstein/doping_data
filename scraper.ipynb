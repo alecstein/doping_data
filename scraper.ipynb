{
 "cells": [
  {
   "cell_type": "markdown",
   "id": "e26a8990-bf72-4f84-b8b7-af38624d13ab",
   "metadata": {},
   "source": [
    "## Importing the testing data"
   ]
  },
  {
   "cell_type": "code",
   "execution_count": 10,
   "id": "408fe37d-16b1-4a59-a168-add5b33eb413",
   "metadata": {},
   "outputs": [],
   "source": [
    "import requests\n",
    "import pandas as pd\n",
    "\n",
    "root_url = 'https://www.usada.org/uploads/web_hist_files/xml/'\n",
    "\n",
    "dfs = []\n",
    "\n",
    "for year in range(2015, 2022 + 1):\n",
    "    for quarter in ['q1', 'q2', 'q3', 'q4']:\n",
    "        if (quarter == 'q3') and (year == 2022): \n",
    "            # Present day\n",
    "            break\n",
    "        r = requests.get(root_url + f'{year}{quarter}.xml')\n",
    "        try: \n",
    "            xml_data = r.content.decode('utf-8')\n",
    "        except UnicodeDecodeError:\n",
    "            # For some reason the encoding changes between years\n",
    "            xml_data = r.content.decode('utf-16')\n",
    "\n",
    "        dfs.append(pd.read_xml(xml_data))\n",
    "        \n",
    "df = pd.concat(dfs)"
   ]
  },
  {
   "cell_type": "code",
   "execution_count": 11,
   "id": "918c83ab-42aa-4e81-8972-831833a04ace",
   "metadata": {},
   "outputs": [],
   "source": [
    "df_1 = df.rename(columns = {'YR':'year',\n",
    "                            'QTR':'quarter',\n",
    "                            'AName':'athlete_name',\n",
    "                            'NumTests':'tests',\n",
    "                            'Sport':'sport',\n",
    "                            'AFN':'athlete_first_name',\n",
    "                            'ALN':'athlete_last_name',})"
   ]
  },
  {
   "cell_type": "code",
   "execution_count": 12,
   "id": "3f1eef52-00bf-40b0-8d9d-6cefdaadd024",
   "metadata": {},
   "outputs": [],
   "source": [
    "df_1.to_csv('usada_testing_data.csv', index = False)"
   ]
  },
  {
   "cell_type": "markdown",
   "id": "502e6885-6a45-41a4-88db-c2a4fdb69b7d",
   "metadata": {},
   "source": [
    "## Import the sanctions data\n",
    "\n",
    "(This can be joined to the previous dataframe if needed)"
   ]
  },
  {
   "cell_type": "code",
   "execution_count": 13,
   "id": "011a1824-80e8-4c13-b2ff-ee04ab90141e",
   "metadata": {},
   "outputs": [],
   "source": [
    "df = pd.read_html('https://www.usada.org/news/sanctions/')[0]"
   ]
  },
  {
   "cell_type": "code",
   "execution_count": 14,
   "id": "2c8d086a-7b23-4898-ae21-b67f0d3a67f9",
   "metadata": {},
   "outputs": [],
   "source": [
    "df_2 = df.rename(columns = {'Athlete':'athlete_name', \n",
    "                            'Sport':'sport', \n",
    "                            'Substance/Reason':'substance_reason', \n",
    "                            'Sanction Terms':'sanction_terms', \n",
    "                            'Sanction_announced':'date_announced'})"
   ]
  },
  {
   "cell_type": "code",
   "execution_count": 15,
   "id": "4223f077-bb0a-4eee-8b17-513b14db3f71",
   "metadata": {},
   "outputs": [],
   "source": [
    "df_2.to_csv('usada_sanctions_data.csv', index = False)"
   ]
  }
 ],
 "metadata": {
  "kernelspec": {
   "display_name": "Python 3 (ipykernel)",
   "language": "python",
   "name": "python3"
  },
  "language_info": {
   "codemirror_mode": {
    "name": "ipython",
    "version": 3
   },
   "file_extension": ".py",
   "mimetype": "text/x-python",
   "name": "python",
   "nbconvert_exporter": "python",
   "pygments_lexer": "ipython3",
   "version": "3.9.10"
  }
 },
 "nbformat": 4,
 "nbformat_minor": 5
}
